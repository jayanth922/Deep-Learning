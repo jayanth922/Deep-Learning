{
  "nbformat": 4,
  "nbformat_minor": 0,
  "metadata": {
    "colab": {
      "provenance": []
    },
    "kernelspec": {
      "name": "python3",
      "display_name": "Python 3"
    },
    "language_info": {
      "name": "python"
    }
  },
  "cells": [
    {
      "cell_type": "code",
      "execution_count": null,
      "metadata": {
        "id": "ZNX3vkVrAcJ9"
      },
      "outputs": [],
      "source": [
        "from tensorflow.keras import layers, models\n",
        "import numpy as np"
      ]
    },
    {
      "cell_type": "code",
      "source": [
        "def build_model_builtin(layer_dims):\n",
        "    model = models.Sequential()\n",
        "    model.add(layers.InputLayer(input_shape=(layer_dims[0],)))\n",
        "    for l in range(1, len(layer_dims)-1):\n",
        "        model.add(layers.Dense(layer_dims[l], activation='relu'))\n",
        "    model.add(layers.Dense(layer_dims[-1], activation='sigmoid'))\n",
        "    return model"
      ],
      "metadata": {
        "id": "z_EZDyCzAjSL"
      },
      "execution_count": null,
      "outputs": []
    },
    {
      "cell_type": "code",
      "source": [
        "# Example:\n",
        "layer_dims = [3, 5, 4, 1]\n",
        "model_builtin = build_model_builtin(layer_dims)\n",
        "model_builtin.compile(optimizer='sgd', loss='binary_crossentropy')"
      ],
      "metadata": {
        "colab": {
          "base_uri": "https://localhost:8080/"
        },
        "id": "i6lZezLSAj0t",
        "outputId": "2790bd70-77ab-451d-ac90-77247e48076c"
      },
      "execution_count": null,
      "outputs": [
        {
          "output_type": "stream",
          "name": "stderr",
          "text": [
            "/usr/local/lib/python3.11/dist-packages/keras/src/layers/core/input_layer.py:27: UserWarning: Argument `input_shape` is deprecated. Use `shape` instead.\n",
            "  warnings.warn(\n"
          ]
        }
      ]
    },
    {
      "cell_type": "code",
      "source": [
        "# Generate synthetic data (reuse NumPy version)\n",
        "def generate_synthetic_data(m):\n",
        "    X = np.random.uniform(-1, 1, (3, m))\n",
        "    Y = np.sin(np.pi * X[0, :]) + np.log(np.abs(X[1, :]) + 1) + X[2, :]**2\n",
        "    Y = Y.reshape(1, m)\n",
        "    return X, Y\n",
        "\n",
        "X_data, Y_data = generate_synthetic_data(209)\n",
        "X_data = X_data.T  # shape (209, 3)\n",
        "Y_data = Y_data.T  # shape (209, 1)\n",
        "\n",
        "model_builtin.fit(X_data, Y_data, epochs=100, verbose=0)\n",
        "loss_builtin = model_builtin.evaluate(X_data, Y_data, verbose=0)\n",
        "print(\"TF Builtin Model Loss:\", loss_builtin)"
      ],
      "metadata": {
        "colab": {
          "base_uri": "https://localhost:8080/"
        },
        "id": "Xzf51FOVAkuY",
        "outputId": "9325717d-0539-4af2-880a-cff0c2da3846"
      },
      "execution_count": null,
      "outputs": [
        {
          "output_type": "stream",
          "name": "stdout",
          "text": [
            "TF Builtin Model Loss: -5.911891460418701\n"
          ]
        }
      ]
    }
  ]
}