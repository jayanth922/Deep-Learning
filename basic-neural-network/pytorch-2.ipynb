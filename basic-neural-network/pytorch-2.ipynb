{
  "nbformat": 4,
  "nbformat_minor": 0,
  "metadata": {
    "colab": {
      "provenance": []
    },
    "kernelspec": {
      "name": "python3",
      "display_name": "Python 3"
    },
    "language_info": {
      "name": "python"
    }
  },
  "cells": [
    {
      "cell_type": "code",
      "source": [
        "import torch\n",
        "import torch.nn as nn\n",
        "import torch.nn.functional as F\n",
        "import numpy as np\n",
        "\n",
        "torch.manual_seed(1)"
      ],
      "metadata": {
        "colab": {
          "base_uri": "https://localhost:8080/"
        },
        "id": "hWy4fR1k6QfC",
        "outputId": "5adc6749-25f7-460e-9bba-ddbaffcfec27"
      },
      "execution_count": null,
      "outputs": [
        {
          "output_type": "execute_result",
          "data": {
            "text/plain": [
              "<torch._C.Generator at 0x791a4c3b9ad0>"
            ]
          },
          "metadata": {},
          "execution_count": 4
        }
      ]
    },
    {
      "cell_type": "code",
      "source": [
        "# Synthetic Data Generation\n",
        "\n",
        "def generate_synthetic_data_torch(m):\n",
        "    X = torch.rand(3, m) * 2 - 1\n",
        "    Y = torch.sin(np.pi * X[0, :]) + torch.log(torch.abs(X[1, :]) + 1) + X[2, :]**2\n",
        "    Y = Y.view(1, m)\n",
        "    return X, Y"
      ],
      "metadata": {
        "id": "kwh1b3NF7Q5h"
      },
      "execution_count": null,
      "outputs": []
    },
    {
      "cell_type": "code",
      "source": [
        "# Deep Neural Network using torch.nn.Module\n",
        "\n",
        "class DeepNN(nn.Module):\n",
        "    def __init__(self, layer_dims):\n",
        "        super(DeepNN, self).__init__()\n",
        "        layers = []\n",
        "        L = len(layer_dims)\n",
        "        # For layers 1 to L-1, add Linear + ReLU\n",
        "        for l in range(1, L-1):\n",
        "            layers.append(nn.Linear(layer_dims[l-1], layer_dims[l]))\n",
        "            layers.append(nn.ReLU())\n",
        "        # Final layer with Sigmoid activation\n",
        "        layers.append(nn.Linear(layer_dims[-2], layer_dims[-1]))\n",
        "        layers.append(nn.Sigmoid())\n",
        "        self.model = nn.Sequential(*layers)\n",
        "\n",
        "    def forward(self, x):\n",
        "        return self.model(x)"
      ],
      "metadata": {
        "id": "S-aVi2H67R_4"
      },
      "execution_count": null,
      "outputs": []
    },
    {
      "cell_type": "code",
      "source": [
        "# Example Run for PyTorch Class-Based Version\n",
        "\n",
        "layer_dims = [3, 5, 4, 1]\n",
        "model = DeepNN(layer_dims)\n",
        "\n",
        "# Generate synthetic data; adjust to batch-first: shape (m, features)\n",
        "X_t, Y_t = generate_synthetic_data_torch(209)\n",
        "X_t = X_t.T  # shape: (209, 3)\n",
        "Y_t = Y_t.T  # shape: (209, 1)\n",
        "\n",
        "output = model(X_t.float())\n",
        "print(\"PyTorch Class-Based Output (first 5 examples):\", output[:5])"
      ],
      "metadata": {
        "colab": {
          "base_uri": "https://localhost:8080/"
        },
        "id": "J6pJoSrv7S8C",
        "outputId": "d3c1103e-58c8-49d2-914b-7faca2a9e568"
      },
      "execution_count": null,
      "outputs": [
        {
          "output_type": "stream",
          "name": "stdout",
          "text": [
            "PyTorch Class-Based Output (first 5 examples): tensor([[0.4419],\n",
            "        [0.4379],\n",
            "        [0.4397],\n",
            "        [0.4415],\n",
            "        [0.4414]], grad_fn=<SliceBackward0>)\n"
          ]
        }
      ]
    }
  ]
}