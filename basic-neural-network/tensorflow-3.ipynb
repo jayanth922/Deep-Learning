{
  "nbformat": 4,
  "nbformat_minor": 0,
  "metadata": {
    "colab": {
      "provenance": []
    },
    "kernelspec": {
      "name": "python3",
      "display_name": "Python 3"
    },
    "language_info": {
      "name": "python"
    }
  },
  "cells": [
    {
      "cell_type": "code",
      "execution_count": null,
      "metadata": {
        "id": "adcEEYGTCASY"
      },
      "outputs": [],
      "source": [
        "import numpy as np\n",
        "import tensorflow as tf\n",
        "from tensorflow.keras import Input, Model, layers\n",
        "\n",
        "# Set random seed for reproducibility\n",
        "np.random.seed(1)\n",
        "tf.random.set_seed(1)"
      ]
    },
    {
      "cell_type": "code",
      "source": [
        "# Synthetic Data Generation\n",
        "\n",
        "def generate_synthetic_data(m):\n",
        "    \"\"\"\n",
        "    Generates synthetic data with 3 features.\n",
        "    Non-linear function: y = sin(pi*x1) + log(|x2| + 1) + x3^2\n",
        "    \"\"\"\n",
        "    X = np.random.uniform(-1, 1, (3, m))\n",
        "    Y = np.sin(np.pi * X[0, :]) + np.log(np.abs(X[1, :]) + 1) + X[2, :]**2\n",
        "    Y = Y.reshape(1, m)\n",
        "    return X, Y"
      ],
      "metadata": {
        "id": "CNp_7DYLD4Dn"
      },
      "execution_count": null,
      "outputs": []
    },
    {
      "cell_type": "code",
      "source": [
        "# Generate data for m examples\n",
        "m = 209\n",
        "X_data, Y_data = generate_synthetic_data(m)\n",
        "# Transpose to shape (m, features) for Keras\n",
        "X_data = X_data.T  # shape: (209, 3)\n",
        "Y_data = Y_data.T  # shape: (209, 1)"
      ],
      "metadata": {
        "id": "XcOW5SJkD52o"
      },
      "execution_count": null,
      "outputs": []
    },
    {
      "cell_type": "code",
      "source": [
        "# Build Model Using the Functional API\n",
        "\n",
        "def build_model_functional(layer_dims):\n",
        "    \"\"\"\n",
        "    Builds a deep neural network with [LINEAR -> RELU] * (L-1) -> LINEAR -> SIGMOID architecture.\n",
        "    \"\"\"\n",
        "    X_input = Input(shape=(layer_dims[0],))\n",
        "    A = X_input\n",
        "    # Hidden layers with ReLU activation\n",
        "    for l in range(1, len(layer_dims)-1):\n",
        "        A = layers.Dense(layer_dims[l], activation='relu')(A)\n",
        "    # Output layer with Sigmoid activation\n",
        "    AL = layers.Dense(layer_dims[-1], activation='sigmoid')(A)\n",
        "    model = Model(inputs=X_input, outputs=AL)\n",
        "    return model"
      ],
      "metadata": {
        "id": "aYlUYB8XD6m3"
      },
      "execution_count": null,
      "outputs": []
    },
    {
      "cell_type": "code",
      "source": [
        "# Define the layer dimensions: input=3, two hidden layers (5 and 4 units), output=1\n",
        "layer_dims = [3, 5, 4, 1]\n",
        "model_func = build_model_functional(layer_dims)\n",
        "\n",
        "# Compile the model\n",
        "model_func.compile(optimizer='sgd', loss='binary_crossentropy')\n",
        "\n",
        "# Train the model\n",
        "model_func.fit(X_data, Y_data, epochs=100, verbose=0)\n",
        "\n",
        "# Evaluate the model\n",
        "loss_func = model_func.evaluate(X_data, Y_data, verbose=0)\n",
        "print(\"TF Functional Model Loss:\", loss_func)"
      ],
      "metadata": {
        "colab": {
          "base_uri": "https://localhost:8080/"
        },
        "id": "bdPb_bwxD7g3",
        "outputId": "2a4bef5a-f430-4fb6-8398-e56ce6a14fe9"
      },
      "execution_count": null,
      "outputs": [
        {
          "output_type": "stream",
          "name": "stdout",
          "text": [
            "TF Functional Model Loss: 0.3190494775772095\n"
          ]
        }
      ]
    }
  ]
}