{
  "nbformat": 4,
  "nbformat_minor": 0,
  "metadata": {
    "colab": {
      "provenance": []
    },
    "kernelspec": {
      "name": "python3",
      "display_name": "Python 3"
    },
    "language_info": {
      "name": "python"
    }
  },
  "cells": [
    {
      "cell_type": "code",
      "execution_count": null,
      "metadata": {
        "id": "xAUNFi1LEWL9"
      },
      "outputs": [],
      "source": [
        "import tensorflow as tf\n",
        "import numpy as np\n",
        "from tensorflow.keras import layers, Model\n",
        "\n",
        "# Set random seed for reproducibility\n",
        "np.random.seed(1)\n",
        "tf.random.set_seed(1)"
      ]
    },
    {
      "cell_type": "code",
      "source": [
        "# Synthetic Data Generation\n",
        "def generate_synthetic_data(m):\n",
        "    # Generate 3 features for m examples uniformly in [-1, 1]\n",
        "    X = np.random.uniform(-1, 1, (3, m))\n",
        "    # Define a non-linear function: y = sin(pi*x1) + log(|x2|+1) + x3^2\n",
        "    Y = np.sin(np.pi * X[0, :]) + np.log(np.abs(X[1, :]) + 1) + X[2, :]**2\n",
        "    Y = Y.reshape(1, m)\n",
        "    return X, Y"
      ],
      "metadata": {
        "id": "aRdTvUN-FEqN"
      },
      "execution_count": null,
      "outputs": []
    },
    {
      "cell_type": "code",
      "source": [
        "# Generate data and adjust dimensions for Keras (batch_first)\n",
        "X_data, Y_data = generate_synthetic_data(209)\n",
        "X_data = X_data.T  # shape becomes (209, 3)\n",
        "Y_data = Y_data.T  # shape becomes (209, 1)"
      ],
      "metadata": {
        "id": "86WCbUmYFLhs"
      },
      "execution_count": null,
      "outputs": []
    },
    {
      "cell_type": "code",
      "source": [
        "# Define the High-Level Model using tf.keras.Model Subclass\n",
        "\n",
        "class DeepNNModel(Model):\n",
        "    def __init__(self, layer_dims):\n",
        "        super(DeepNNModel, self).__init__()\n",
        "        self.hidden_layers = []\n",
        "        # Build hidden layers (with ReLU activation)\n",
        "        for l in range(1, len(layer_dims)-1):\n",
        "            self.hidden_layers.append(layers.Dense(layer_dims[l], activation='relu'))\n",
        "        # Final output layer with Sigmoid activation\n",
        "        self.output_layer = layers.Dense(layer_dims[-1], activation='sigmoid')\n",
        "\n",
        "    def call(self, inputs):\n",
        "        A = inputs\n",
        "        for layer in self.hidden_layers:\n",
        "            A = layer(A)\n",
        "        return self.output_layer(A)"
      ],
      "metadata": {
        "id": "ngIUHyc8FVwE"
      },
      "execution_count": null,
      "outputs": []
    },
    {
      "cell_type": "code",
      "source": [
        "# Build, Compile, and Train the Model\n",
        "\n",
        "layer_dims = [3, 5, 4, 1]\n",
        "model_high = DeepNNModel(layer_dims)\n",
        "model_high.compile(optimizer='sgd', loss='binary_crossentropy')\n",
        "\n",
        "# Train the model on the synthetic data\n",
        "model_high.fit(X_data, Y_data, epochs=100, verbose=0)\n",
        "loss_high = model_high.evaluate(X_data, Y_data, verbose=0)\n",
        "print(\"TF High-Level Model Loss:\", loss_high)"
      ],
      "metadata": {
        "colab": {
          "base_uri": "https://localhost:8080/"
        },
        "id": "aB2M8XDnFYf3",
        "outputId": "222baefd-c46d-4a20-dd06-042264b58035"
      },
      "execution_count": null,
      "outputs": [
        {
          "output_type": "stream",
          "name": "stdout",
          "text": [
            "TF High-Level Model Loss: 0.48033565282821655\n"
          ]
        }
      ]
    }
  ]
}