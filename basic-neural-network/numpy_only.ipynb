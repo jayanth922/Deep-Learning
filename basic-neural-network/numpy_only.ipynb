{
  "nbformat": 4,
  "nbformat_minor": 0,
  "metadata": {
    "colab": {
      "provenance": []
    },
    "kernelspec": {
      "name": "python3",
      "display_name": "Python 3"
    },
    "language_info": {
      "name": "python"
    }
  },
  "cells": [
    {
      "cell_type": "code",
      "execution_count": null,
      "metadata": {
        "id": "uGUEjn3D4SFj"
      },
      "outputs": [],
      "source": [
        "import numpy as np\n",
        "import matplotlib.pyplot as plt\n",
        "\n",
        "# --- Synthetic Data Generation ---\n",
        "def generate_synthetic_data(m):\n",
        "    # For example, let x1, x2, x3 be inputs drawn from a uniform distribution\n",
        "    X = np.random.uniform(-1, 1, (3, m))\n",
        "    # Non-linear equation: y = sin(pi*x1) + log(|x2|+1) + x3^2\n",
        "    Y = np.sin(np.pi * X[0, :]) + np.log(np.abs(X[1, :]) + 1) + X[2, :]**2\n",
        "    Y = Y.reshape(1, m)\n",
        "    return X, Y"
      ]
    },
    {
      "cell_type": "code",
      "source": [
        "# --- Activation Functions and Derivatives ---\n",
        "def sigmoid(Z):\n",
        "    A = 1/(1+np.exp(-Z))\n",
        "    cache = Z\n",
        "    return A, cache\n",
        "\n",
        "def relu(Z):\n",
        "    A = np.maximum(0, Z)\n",
        "    cache = Z\n",
        "    return A, cache\n",
        "\n",
        "def relu_backward(dA, cache):\n",
        "    Z = cache\n",
        "    dZ = np.array(dA, copy=True)\n",
        "    dZ[Z<=0] = 0\n",
        "    return dZ\n",
        "\n",
        "def sigmoid_backward(dA, cache):\n",
        "    Z = cache\n",
        "    s = 1/(1+np.exp(-Z))\n",
        "    dZ = dA * s * (1-s)\n",
        "    return dZ"
      ],
      "metadata": {
        "id": "mu1PfFyY4zg1"
      },
      "execution_count": null,
      "outputs": []
    },
    {
      "cell_type": "code",
      "source": [
        "# --- Parameter Initialization ---\n",
        "def initialize_parameters_deep(layer_dims):\n",
        "    np.random.seed(3)\n",
        "    parameters = {}\n",
        "    L = len(layer_dims)  # number of layers including input\n",
        "    for l in range(1, L):\n",
        "        parameters['W' + str(l)] = np.random.randn(layer_dims[l], layer_dims[l-1]) * 0.01\n",
        "        parameters['b' + str(l)] = np.zeros((layer_dims[l], 1))\n",
        "    return parameters"
      ],
      "metadata": {
        "id": "EbBDUZFz44U9"
      },
      "execution_count": null,
      "outputs": []
    },
    {
      "cell_type": "code",
      "source": [
        "# --- Forward Propagation ---\n",
        "def linear_forward(A_prev, W, b):\n",
        "    Z = np.dot(W, A_prev) + b\n",
        "    cache = (A_prev, W, b)\n",
        "    return Z, cache\n",
        "\n",
        "def linear_activation_forward(A_prev, W, b, activation):\n",
        "    Z, linear_cache = linear_forward(A_prev, W, b)\n",
        "    if activation == \"sigmoid\":\n",
        "        A, activation_cache = sigmoid(Z)\n",
        "    elif activation == \"relu\":\n",
        "        A, activation_cache = relu(Z)\n",
        "    cache = (linear_cache, activation_cache)\n",
        "    return A, cache\n",
        "\n",
        "def L_model_forward(X, parameters):\n",
        "    caches = []\n",
        "    A = X\n",
        "    L = len(parameters) // 2  # number of layers\n",
        "    for l in range(1, L):\n",
        "        A_prev = A\n",
        "        A, cache = linear_activation_forward(A_prev,\n",
        "                                             parameters['W'+str(l)],\n",
        "                                             parameters['b'+str(l)],\n",
        "                                             activation=\"relu\")\n",
        "        caches.append(cache)\n",
        "    AL, cache = linear_activation_forward(A,\n",
        "                                          parameters['W'+str(L)],\n",
        "                                          parameters['b'+str(L)],\n",
        "                                          activation=\"sigmoid\")\n",
        "    caches.append(cache)\n",
        "    return AL, caches\n"
      ],
      "metadata": {
        "id": "vyqRK33b5Ayz"
      },
      "execution_count": null,
      "outputs": []
    },
    {
      "cell_type": "code",
      "source": [
        "# --- Compute Cost ---\n",
        "def compute_cost(AL, Y):\n",
        "    m = Y.shape[1]\n",
        "    cost = -(1/m)*np.sum(Y*np.log(AL) + (1-Y)*np.log(1-AL))\n",
        "    cost = np.squeeze(cost)\n",
        "    return cost\n"
      ],
      "metadata": {
        "id": "lGhSFAC35FAh"
      },
      "execution_count": null,
      "outputs": []
    },
    {
      "cell_type": "code",
      "source": [
        "# --- Backward Propagation Functions ---\n",
        "def linear_backward(dZ, cache):\n",
        "    A_prev, W, b = cache\n",
        "    m = A_prev.shape[1]\n",
        "    dW = (1/m)*np.dot(dZ, A_prev.T)\n",
        "    db = (1/m)*np.sum(dZ, axis=1, keepdims=True)\n",
        "    dA_prev = np.dot(W.T, dZ)\n",
        "    return dA_prev, dW, db\n",
        "\n",
        "def linear_activation_backward(dA, cache, activation):\n",
        "    linear_cache, activation_cache = cache\n",
        "    if activation == \"relu\":\n",
        "        dZ = relu_backward(dA, activation_cache)\n",
        "    elif activation == \"sigmoid\":\n",
        "        dZ = sigmoid_backward(dA, activation_cache)\n",
        "    dA_prev, dW, db = linear_backward(dZ, linear_cache)\n",
        "    return dA_prev, dW, db\n",
        "\n",
        "def L_model_backward(AL, Y, caches):\n",
        "    grads = {}\n",
        "    L = len(caches)\n",
        "    m = AL.shape[1]\n",
        "    Y = Y.reshape(AL.shape)\n",
        "    dAL = -(np.divide(Y, AL) - np.divide(1-Y, 1-AL))\n",
        "    current_cache = caches[L-1]\n",
        "    grads[\"dA\"+str(L-1)], grads[\"dW\"+str(L)], grads[\"db\"+str(L)] = linear_activation_backward(dAL, current_cache, activation=\"sigmoid\")\n",
        "    for l in reversed(range(L-1)):\n",
        "        current_cache = caches[l]\n",
        "        dA_prev_temp, dW_temp, db_temp = linear_activation_backward(grads[\"dA\"+str(l+1)], current_cache, activation=\"relu\")\n",
        "        grads[\"dA\"+str(l)] = dA_prev_temp\n",
        "        grads[\"dW\"+str(l+1)] = dW_temp\n",
        "        grads[\"db\"+str(l+1)] = db_temp\n",
        "    return grads\n",
        "\n",
        "def update_parameters(parameters, grads, learning_rate):\n",
        "    L = len(parameters)//2\n",
        "    for l in range(1, L+1):\n",
        "        parameters[\"W\"+str(l)] = parameters[\"W\"+str(l)] - learning_rate*grads[\"dW\"+str(l)]\n",
        "        parameters[\"b\"+str(l)] = parameters[\"b\"+str(l)] - learning_rate*grads[\"db\"+str(l)]\n",
        "    return parameters\n"
      ],
      "metadata": {
        "id": "TdwsU2AG5G8U"
      },
      "execution_count": null,
      "outputs": []
    },
    {
      "cell_type": "code",
      "source": [
        "# --- Example Run ---\n",
        "layer_dims = [3, 5, 4, 1]  # 3-layer model: input (3), 2 hidden layers (5 and 4 units), output (1)\n",
        "parameters = initialize_parameters_deep(layer_dims)\n",
        "X, Y = generate_synthetic_data(209)\n",
        "AL, caches = L_model_forward(X, parameters)\n",
        "cost = compute_cost(AL, Y)\n",
        "print(\"Cost:\", cost)\n"
      ],
      "metadata": {
        "id": "q6eL5LiC5Io-",
        "outputId": "94d15414-9fa0-4c01-de8a-2655a8f84b03",
        "colab": {
          "base_uri": "https://localhost:8080/"
        }
      },
      "execution_count": null,
      "outputs": [
        {
          "output_type": "stream",
          "name": "stdout",
          "text": [
            "Cost: 0.6931474702097481\n"
          ]
        }
      ]
    },
    {
      "cell_type": "code",
      "source": [
        "# --- Plot the synthetic data or model output as needed ---\n",
        "plt.plot(Y.flatten(), AL.flatten(), 'o')\n",
        "plt.xlabel(\"True Y\")\n",
        "plt.ylabel(\"Predicted Y\")\n",
        "plt.title(\"Non-linear Regression Output\")\n",
        "plt.show()"
      ],
      "metadata": {
        "id": "2u9AEwpw5LjP",
        "outputId": "136f5a49-cb10-4bad-865a-686869114b1c",
        "colab": {
          "base_uri": "https://localhost:8080/",
          "height": 472
        }
      },
      "execution_count": null,
      "outputs": [
        {
          "output_type": "display_data",
          "data": {
            "text/plain": [
              "<Figure size 640x480 with 1 Axes>"
            ],
            "image/png": "[encoded data removed]"
          },
          "metadata": {}
        }
      ]
    }
  ]
}