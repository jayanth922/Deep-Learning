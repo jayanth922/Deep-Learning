{
  "nbformat": 4,
  "nbformat_minor": 0,
  "metadata": {
    "colab": {
      "provenance": []
    },
    "kernelspec": {
      "name": "python3",
      "display_name": "Python 3"
    },
    "language_info": {
      "name": "python"
    }
  },
  "cells": [
    {
      "cell_type": "code",
      "execution_count": null,
      "metadata": {
        "colab": {
          "base_uri": "https://localhost:8080/"
        },
        "id": "wnQovTJf5ZGJ",
        "outputId": "9d23089d-54c0-45c2-b063-433e9ed96e26"
      },
      "outputs": [
        {
          "output_type": "execute_result",
          "data": {
            "text/plain": [
              "<torch._C.Generator at 0x7bea5822a5b0>"
            ]
          },
          "metadata": {},
          "execution_count": 6
        }
      ],
      "source": [
        "import torch\n",
        "import torch.nn.functional as F\n",
        "import numpy as np\n",
        "\n",
        "torch.manual_seed(1)"
      ]
    },
    {
      "cell_type": "code",
      "source": [
        "# Synthetic data generation similar to NumPy version:\n",
        "def generate_synthetic_data_torch(m):\n",
        "    X = torch.rand(3, m)*2 - 1  # in [-1, 1]\n",
        "    Y = torch.sin(np.pi * X[0, :]) + torch.log(torch.abs(X[1, :]) + 1) + X[2, :]**2\n",
        "    Y = Y.view(1, m)\n",
        "    return X, Y"
      ],
      "metadata": {
        "id": "7OR3F63i5ev7"
      },
      "execution_count": null,
      "outputs": []
    },
    {
      "cell_type": "code",
      "source": [
        "# Initialize parameters manually:\n",
        "def initialize_parameters_torch(layer_dims):\n",
        "    parameters = {}\n",
        "    L = len(layer_dims)\n",
        "    for l in range(1, L):\n",
        "        parameters['W' + str(l)] = torch.randn(layer_dims[l], layer_dims[l-1]) * 0.01\n",
        "        parameters['b' + str(l)] = torch.zeros(layer_dims[l], 1)\n",
        "        parameters['W' + str(l)].requires_grad = True\n",
        "        parameters['b' + str(l)].requires_grad = True\n",
        "    return parameters"
      ],
      "metadata": {
        "id": "UepPZp575gvK"
      },
      "execution_count": null,
      "outputs": []
    },
    {
      "cell_type": "code",
      "source": [
        "# Forward propagation using manual operations:\n",
        "def L_model_forward_torch(X, parameters):\n",
        "    A = X\n",
        "    L = len(parameters) // 2\n",
        "    caches = []\n",
        "    for l in range(1, L):\n",
        "        Z = torch.mm(parameters['W'+str(l)], A) + parameters['b'+str(l)]\n",
        "        A = F.relu(Z)\n",
        "        caches.append(Z)\n",
        "    ZL = torch.mm(parameters['W'+str(L)], A) + parameters['b'+str(L)]\n",
        "    AL = torch.sigmoid(ZL)\n",
        "    caches.append(ZL)\n",
        "    return AL, caches"
      ],
      "metadata": {
        "id": "_LjH-Bk25igA"
      },
      "execution_count": null,
      "outputs": []
    },
    {
      "cell_type": "code",
      "source": [
        "# Example run:\n",
        "layer_dims = [3, 5, 4, 1]\n",
        "parameters_torch = initialize_parameters_torch(layer_dims)\n",
        "X_t, Y_t = generate_synthetic_data_torch(209)\n",
        "AL_t, _ = L_model_forward_torch(X_t, parameters_torch)\n",
        "cost_t = -torch.mean(Y_t*torch.log(AL_t) + (1-Y_t)*torch.log(1-AL_t))\n",
        "print(\"PyTorch cost:\", cost_t.item())"
      ],
      "metadata": {
        "colab": {
          "base_uri": "https://localhost:8080/"
        },
        "id": "agPQa7Xc5jyM",
        "outputId": "0ecd70c3-86e7-4914-c022-698d6bbf5012"
      },
      "execution_count": null,
      "outputs": [
        {
          "output_type": "stream",
          "name": "stdout",
          "text": [
            "PyTorch cost: 0.6931470632553101\n"
          ]
        }
      ]
    }
  ]
}