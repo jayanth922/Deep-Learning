{
  "nbformat": 4,
  "nbformat_minor": 0,
  "metadata": {
    "colab": {
      "provenance": [],
      "gpuType": "T4"
    },
    "kernelspec": {
      "name": "python3",
      "display_name": "Python 3"
    },
    "language_info": {
      "name": "python"
    },
    "accelerator": "GPU"
  },
  "cells": [
    {
      "cell_type": "code",
      "source": [
        "# %% @title Environment Setup - CIFAR-10\n",
        "from tensorflow.keras.preprocessing.image import ImageDataGenerator\n",
        "\n",
        "\n",
        "\n",
        "\n",
        "# %%\n",
        "(train_images_cifar, train_labels_cifar), (test_images_cifar, test_labels_cifar) = tf.keras.datasets.cifar10.load_data()\n",
        "train_images_cifar = train_images_cifar.astype(\"float32\") / 255.0\n",
        "test_images_cifar  = test_images_cifar.astype(\"float32\") / 255.0\n",
        "\n",
        "\n",
        "\n",
        "\n",
        "# %%\n",
        "def create_cifar_model():\n",
        "    model = models.Sequential(name=\"sequential_cifar\")\n",
        "    model.add(layers.Conv2D(32, (3,3), activation=\"relu\", padding=\"same\", input_shape=(32,32,3), name=\"conv2d_1\"))\n",
        "    model.add(layers.MaxPooling2D((2,2), name=\"maxpool_1\"))\n",
        "    model.add(layers.Conv2D(64, (3,3), activation=\"relu\", padding=\"same\", name=\"conv2d_2\"))\n",
        "    model.add(layers.MaxPooling2D((2,2), name=\"maxpool_2\"))\n",
        "    model.add(layers.Flatten(name=\"flatten_1\"))\n",
        "    model.add(layers.Dense(64, activation=\"relu\", name=\"dense_1\"))\n",
        "    model.add(layers.Dense(10, activation=\"softmax\", name=\"dense_2\"))\n",
        "    return model\n",
        "\n",
        "cifar_model = create_cifar_model()\n",
        "cifar_model.summary()\n",
        "\n",
        "\n",
        "\n",
        "\n",
        "# %%\n",
        "detailed_cifar_summary = tf.keras.utils.model_to_dot(cifar_model, show_shapes=True).create(prog='dot', format='plain')\n",
        "print(\"Detailed CIFAR-10 Model Summary:\")\n",
        "print(detailed_cifar_summary)\n",
        "\n",
        "\n",
        "\n",
        "\n",
        "# %%\n",
        "wandb.init(project=\"cifar10-classification\", reinit=True)\n",
        "wandb.config.update({\"learning_rate\": 0.001, \"epochs\": 50, \"batch_size\": 128, \"augmentation\": True})\n",
        "datagen = ImageDataGenerator(\n",
        "    rotation_range=15,\n",
        "    width_shift_range=0.1,\n",
        "    height_shift_range=0.1,\n",
        "    horizontal_flip=True\n",
        ")\n",
        "cifar_model.compile(optimizer=\"adam\", loss=\"sparse_categorical_crossentropy\", metrics=[\"accuracy\"])\n",
        "history_cifar = cifar_model.fit(\n",
        "    datagen.flow(train_images_cifar, train_labels_cifar, batch_size=128),\n",
        "    epochs=50,\n",
        "    validation_data=(test_images_cifar, test_labels_cifar),\n",
        "    callbacks=[WandbCallback()]\n",
        ")\n",
        "\n",
        "\n",
        "\n",
        "\n",
        "# %%\n",
        "test_loss, test_acc = cifar_model.evaluate(test_images_cifar, test_labels_cifar)\n",
        "y_pred_cifar = cifar_model.predict(test_images_cifar).argmax(axis=1)\n",
        "wandb.log({\"confusion_matrix\": wandb.plot.confusion_matrix(\n",
        "    y_true=test_labels_cifar.flatten(),\n",
        "    preds=y_pred_cifar,\n",
        "    class_names=[str(i) for i in range(10)]\n",
        ")})\n",
        "\n",
        "# Dummy Grad-CAM visualization function for demonstration purposes\n",
        "def dummy_gradcam(model, image, layer_name):\n",
        "    cam = image.copy()\n",
        "    cam[..., 0] = np.maximum(cam[..., 0] * 0.5, 0.5)  # Overlay a red tint for demo effect\n",
        "    return cam\n",
        "\n",
        "sample_img = test_images_cifar[0]\n",
        "gradcam_img = dummy_gradcam(cifar_model, sample_img, \"conv2d_2\")\n",
        "plt.imshow(gradcam_img)\n",
        "plt.title(\"Dummy Grad-CAM\")\n",
        "plt.axis(\"off\")\n",
        "plt.savefig(\"gradcam_cifar.png\")\n",
        "plt.show()\n",
        "wandb.log({\"gradcam\": wandb.Image(\"gradcam_cifar.png\")})\n"
      ],
      "metadata": {
        "id": "r4UAJkcmyLiV",
        "colab": {
          "base_uri": "https://localhost:8080/",
          "height": 1000
        },
        "outputId": "a1ce18c6-6a6d-4291-a475-cf663dc95951"
      },
      "execution_count": 3,
      "outputs": [
        {
          "metadata": {
            "tags": null
          },
          "name": "stdout",
          "output_type": "stream",
          "text": [
            "Downloading data from https://www.cs.toronto.edu/~kriz/cifar-10-python.tar.gz\n",
            "170498071/170498071 [==============================] - 4s 0us/step\n",
            "Model: \"sequential_cifar\"\n",
            "_________________________________________________________________\n",
            " Layer (type)                Output Shape              Param #   \n",
            "=================================================================\n",
            " conv2d_1 (Conv2D)           (None, 32, 32, 32)        896       \n",
            "                                                                 \n",
            " maxpool_1 (MaxPooling2D)    (None, 16, 16, 32)        0         \n",
            "                                                                 \n",
            " conv2d_2 (Conv2D)           (None, 16, 16, 64)        18496     \n",
            "                                                                 \n",
            " maxpool_2 (MaxPooling2D)    (None, 8, 8, 64)          0         \n",
            "                                                                 \n",
            " flatten_1 (Flatten)         (None, 4096)              0         \n",
            "                                                                 \n",
            " dense_1 (Dense)             (None, 64)                262208    \n",
            "                                                                 \n",
            " dense_2 (Dense)             (None, 10)                650       \n",
            "                                                                 \n",
            "=================================================================\n",
            "Total params: 282250 (1.08 MB)\n",
            "Trainable params: 282250 (1.08 MB)\n",
            "Non-trainable params: 0 (0.00 Byte)\n",
            "_________________________________________________________________\n",
            "Detailed CIFAR-10 Model Summary:\n",
            "b'graph 1 3.875 8.7222\\nnode 137445464924944 1.9375 8.3958 3.875 0.65278 \"{conv2d_1_input|InputLayer}|{input:|output:}|{{[(None, 32, 32, 3)]}|{[(None, 32, 32, 3)]}}\" solid record black lightgrey\\nnode 137445471190288 1.9375 7.2431 3.375 0.65278 \"{conv2d_1|Conv2D}|{input:|output:}|{{(None, 32, 32, 3)}|{(None, 32, 32, 32)}}\" solid record black lightgrey\\nnode 137445474212752 1.9375 6.0903 3.8056 0.65278 \"{maxpool_1|MaxPooling2D}|{input:|output:}|{{(None, 32, 32, 32)}|{(None, 16, 16, 32)}}\" solid record black lightgrey\\nnode 137445461505360 1.9375 4.9375 3.375 0.65278 \"{conv2d_2|Conv2D}|{input:|output:}|{{(None, 16, 16, 32)}|{(None, 16, 16, 64)}}\" solid record black lightgrey\\nnode 137445461555792 1.9375 3.7847 3.8056 0.65278 \"{maxpool_2|MaxPooling2D}|{input:|output:}|{{(None, 16, 16, 64)}|{(None, 8, 8, 64)}}\" solid record black lightgrey\\nnode 137445461575568 1.9375 2.6319 3.1111 0.65278 \"{flatten_1|Flatten}|{input:|output:}|{{(None, 8, 8, 64)}|{(None, 4096)}}\" solid record black lightgrey\\nnode 137445671093264 1.9375 1.4792 2.8472 0.65278 \"{dense_1|Dense}|{input:|output:}|{{(None, 4096)}|{(None, 64)}}\" solid record black lightgrey\\nnode 137445464027792 1.9375 0.32639 2.6667 0.65278 \"{dense_2|Dense}|{input:|output:}|{{(None, 64)}|{(None, 10)}}\" solid record black lightgrey\\nedge 137445464924944 137445471190288 4 1.9375 8.0745 1.9375 7.9604 1.9375 7.8286 1.9375 7.7045 solid black\\nedge 137445471190288 137445474212752 4 1.9375 6.9218 1.9375 6.8077 1.9375 6.6758 1.9375 6.5517 solid black\\nedge 137445474212752 137445461505360 4 1.9375 5.769 1.9375 5.6549 1.9375 5.523 1.9375 5.399 solid black\\nedge 137445461505360 137445461555792 4 1.9375 4.6162 1.9375 4.5021 1.9375 4.3702 1.9375 4.2462 solid black\\nedge 137445461555792 137445461575568 4 1.9375 3.4634 1.9375 3.3493 1.9375 3.2175 1.9375 3.0934 solid black\\nedge 137445461575568 137445671093264 4 1.9375 2.3106 1.9375 2.1966 1.9375 2.0647 1.9375 1.9406 solid black\\nedge 137445671093264 137445464027792 4 1.9375 1.1579 1.9375 1.0438 1.9375 0.91192 1.9375 0.78785 solid black\\nstop\\n'\n"
          ]
        },
        {
          "data": {
            "text/html": [],
            "text/plain": [
              "<IPython.core.display.HTML object>"
            ]
          },
          "metadata": {},
          "output_type": "display_data"
        },
        {
          "data": {
            "text/html": [
              "<br>    <style><br>        .wandb-row {<br>            display: flex;<br>            flex-direction: row;<br>            flex-wrap: wrap;<br>            justify-content: flex-start;<br>            width: 100%;<br>        }<br>        .wandb-col {<br>            display: flex;<br>            flex-direction: column;<br>            flex-basis: 100%;<br>            flex: 1;<br>            padding: 10px;<br>        }<br>    </style><br><div class=\"wandb-row\"><div class=\"wandb-col\"><h3>Run history:</h3><br/><table class=\"wandb\"><tr><td>epoch</td><td>▁▁▁▁▂▂▂▂▂▂▃▃▃▃▃▄▄▄▄▄▄▄▅▅▅▅▅▅▅▆▆▆▆▆▇▇▇███</td></tr><tr><td>loss</td><td>███▇▇▅▃▂▂▂▁▁▁▁▁▁▁▁▁▁▁▁▁▁▁▁▁▁▁▁▁▁▁▁▁▁▁▁▁▁</td></tr><tr><td>mae</td><td>███▇▇▄▄▄▃▂▁▁▁▁▁▁▁▁▁▁▁▁▁▁▁▁▁▁▁▁▁▁▁▁▁▁▁▁▁▁</td></tr><tr><td>mse</td><td>▁</td></tr><tr><td>r2</td><td>▁</td></tr><tr><td>val_loss</td><td>█▇▇▇▆▄▃▃▁▁▁▁▁▁▁▁▁▁▁▁▁▁▁▁▁▁▁▁▁▁▁▁▁▁▁▁▁▁▁▁</td></tr><tr><td>val_mae</td><td>████▇▆▆▄▂▂▂▁▁▁▁▁▁▁▁▁▁▁▁▁▁▁▁▁▁▁▁▁▁▁▁▁▁▁▁▁</td></tr></table><br/></div><div class=\"wandb-col\"><h3>Run summary:</h3><br/><table class=\"wandb\"><tr><td>best_epoch</td><td>99</td></tr><tr><td>best_val_loss</td><td>28482426.0</td></tr><tr><td>epoch</td><td>99</td></tr><tr><td>loss</td><td>30869966.0</td></tr><tr><td>mae</td><td>3594.26507</td></tr><tr><td>mse</td><td>27447945.48285</td></tr><tr><td>r2</td><td>0.8232</td></tr><tr><td>val_loss</td><td>28482426.0</td></tr><tr><td>val_mae</td><td>3390.91382</td></tr></table><br/></div></div>"
            ],
            "text/plain": [
              "<IPython.core.display.HTML object>"
            ]
          },
          "metadata": {},
          "output_type": "display_data"
        },
        {
          "data": {
            "text/html": [
              " View run <strong style=\"color:#cdcd00\">jolly-river-3</strong> at: <a href='https://wandb.ai/jayanth-kalyanam-san-jose-state-university/medical-regression/runs/j09ib3sc' target=\"_blank\">https://wandb.ai/jayanth-kalyanam-san-jose-state-university/medical-regression/runs/j09ib3sc</a><br> View project at: <a href='https://wandb.ai/jayanth-kalyanam-san-jose-state-university/medical-regression' target=\"_blank\">https://wandb.ai/jayanth-kalyanam-san-jose-state-university/medical-regression</a><br>Synced 5 W&B file(s), 2 media file(s), 441 artifact file(s) and 0 other file(s)"
            ],
            "text/plain": [
              "<IPython.core.display.HTML object>"
            ]
          },
          "metadata": {},
          "output_type": "display_data"
        },
        {
          "data": {
            "text/html": [
              "Find logs at: <code>./wandb/run-20250220_055714-j09ib3sc/logs</code>"
            ],
            "text/plain": [
              "<IPython.core.display.HTML object>"
            ]
          },
          "metadata": {},
          "output_type": "display_data"
        },
        {
          "data": {
            "text/html": [
              "Tracking run with wandb version 0.19.6"
            ],
            "text/plain": [
              "<IPython.core.display.HTML object>"
            ]
          },
          "metadata": {},
          "output_type": "display_data"
        },
        {
          "data": {
            "text/html": [
              "Run data is saved locally in <code>/content/wandb/run-20250220_055838-2i1gn7k4</code>"
            ],
            "text/plain": [
              "<IPython.core.display.HTML object>"
            ]
          },
          "metadata": {},
          "output_type": "display_data"
        },
        {
          "data": {
            "text/html": [
              "Syncing run <strong><a href='https://wandb.ai/jayanth-kalyanam-san-jose-state-university/cifar10-classification/runs/2i1gn7k4' target=\"_blank\">neat-armadillo-3</a></strong> to <a href='https://wandb.ai/jayanth-kalyanam-san-jose-state-university/cifar10-classification' target=\"_blank\">Weights & Biases</a> (<a href='https://wandb.me/developer-guide' target=\"_blank\">docs</a>)<br>"
            ],
            "text/plain": [
              "<IPython.core.display.HTML object>"
            ]
          },
          "metadata": {},
          "output_type": "display_data"
        },
        {
          "data": {
            "text/html": [
              " View project at <a href='https://wandb.ai/jayanth-kalyanam-san-jose-state-university/cifar10-classification' target=\"_blank\">https://wandb.ai/jayanth-kalyanam-san-jose-state-university/cifar10-classification</a>"
            ],
            "text/plain": [
              "<IPython.core.display.HTML object>"
            ]
          },
          "metadata": {},
          "output_type": "display_data"
        },
        {
          "data": {
            "text/html": [
              " View run at <a href='https://wandb.ai/jayanth-kalyanam-san-jose-state-university/cifar10-classification/runs/2i1gn7k4' target=\"_blank\">https://wandb.ai/jayanth-kalyanam-san-jose-state-university/cifar10-classification/runs/2i1gn7k4</a>"
            ],
            "text/plain": [
              "<IPython.core.display.HTML object>"
            ]
          },
          "metadata": {},
          "output_type": "display_data"
        },
        {
          "metadata": {
            "tags": null
          },
          "name": "stdout",
          "output_type": "stream",
          "text": [
            "Epoch 1/50\n",
            "391/391 [==============================] - ETA: 0s - loss: 1.6818 - accuracy: 0.1024"
          ]
        },
        {
          "metadata": {
            "tags": null
          },
          "name": "stderr",
          "output_type": "stream",
          "text": [
            "/usr/local/lib/python3.11/dist-packages/keras/src/engine/training.py:3103: UserWarning: You are saving your model as an HDF5 file via `model.save()`. This file format is considered legacy. We recommend using instead the native Keras format, e.g. `model.save('my_model.keras')`.\n",
            "  saving_api.save_model(\n",
            "\u001b[34m\u001b[1mwandb\u001b[0m: Adding directory to artifact (/content/wandb/run-20250220_055838-2i1gn7k4/files/model-best)... Done. 0.0s\n"
          ]
        },
        {
          "metadata": {
            "tags": null
          },
          "name": "stdout",
          "output_type": "stream",
          "text": [
            "391/391 [==============================] - 81s 204ms/step - loss: 1.6818 - accuracy: 0.1024 - val_loss: 1.3537 - val_accuracy: 0.1407\n",
            "Epoch 2/50\n",
            "391/391 [==============================] - ETA: 0s - loss: 1.3867 - accuracy: 0.1000"
          ]
        },
        {
          "metadata": {
            "tags": null
          },
          "name": "stderr",
          "output_type": "stream",
          "text": [
            "/usr/local/lib/python3.11/dist-packages/keras/src/engine/training.py:3103: UserWarning: You are saving your model as an HDF5 file via `model.save()`. This file format is considered legacy. We recommend using instead the native Keras format, e.g. `model.save('my_model.keras')`.\n",
            "  saving_api.save_model(\n",
            "\u001b[34m\u001b[1mwandb\u001b[0m: Adding directory to artifact (/content/wandb/run-20250220_055838-2i1gn7k4/files/model-best)... Done. 0.0s\n"
          ]
        },
        {
          "metadata": {
            "tags": null
          },
          "name": "stdout",
          "output_type": "stream",
          "text": [
            "391/391 [==============================] - 76s 195ms/step - loss: 1.3867 - accuracy: 0.1000 - val_loss: 1.2220 - val_accuracy: 0.0977\n",
            "Epoch 3/50\n",
            "391/391 [==============================] - ETA: 0s - loss: 1.2677 - accuracy: 0.0986"
          ]
        },
        {
          "metadata": {
            "tags": null
          },
          "name": "stderr",
          "output_type": "stream",
          "text": [
            "/usr/local/lib/python3.11/dist-packages/keras/src/engine/training.py:3103: UserWarning: You are saving your model as an HDF5 file via `model.save()`. This file format is considered legacy. We recommend using instead the native Keras format, e.g. `model.save('my_model.keras')`.\n",
            "  saving_api.save_model(\n",
            "\u001b[34m\u001b[1mwandb\u001b[0m: Adding directory to artifact (/content/wandb/run-20250220_055838-2i1gn7k4/files/model-best)... Done. 0.0s\n"
          ]
        },
        {
          "metadata": {
            "tags": null
          },
          "name": "stdout",
          "output_type": "stream",
          "text": [
            "391/391 [==============================] - 78s 199ms/step - loss: 1.2677 - accuracy: 0.0986 - val_loss: 1.1390 - val_accuracy: 0.1055\n",
            "Epoch 4/50\n",
            "391/391 [==============================] - ETA: 0s - loss: 1.1909 - accuracy: 0.0993"
          ]
        },
        {
          "metadata": {
            "tags": null
          },
          "name": "stderr",
          "output_type": "stream",
          "text": [
            "/usr/local/lib/python3.11/dist-packages/keras/src/engine/training.py:3103: UserWarning: You are saving your model as an HDF5 file via `model.save()`. This file format is considered legacy. We recommend using instead the native Keras format, e.g. `model.save('my_model.keras')`.\n",
            "  saving_api.save_model(\n",
            "\u001b[34m\u001b[1mwandb\u001b[0m: Adding directory to artifact (/content/wandb/run-20250220_055838-2i1gn7k4/files/model-best)... Done. 0.0s\n"
          ]
        },
        {
          "metadata": {
            "tags": null
          },
          "name": "stdout",
          "output_type": "stream",
          "text": [
            "391/391 [==============================] - 78s 198ms/step - loss: 1.1909 - accuracy: 0.0993 - val_loss: 1.1368 - val_accuracy: 0.0726\n",
            "Epoch 5/50\n",
            "391/391 [==============================] - ETA: 0s - loss: 1.1321 - accuracy: 0.0999"
          ]
        },
        {
          "metadata": {
            "tags": null
          },
          "name": "stderr",
          "output_type": "stream",
          "text": [
            "/usr/local/lib/python3.11/dist-packages/keras/src/engine/training.py:3103: UserWarning: You are saving your model as an HDF5 file via `model.save()`. This file format is considered legacy. We recommend using instead the native Keras format, e.g. `model.save('my_model.keras')`.\n",
            "  saving_api.save_model(\n",
            "\u001b[34m\u001b[1mwandb\u001b[0m: Adding directory to artifact (/content/wandb/run-20250220_055838-2i1gn7k4/files/model-best)... Done. 0.0s\n"
          ]
        },
        {
          "metadata": {
            "tags": null
          },
          "name": "stdout",
          "output_type": "stream",
          "text": [
            "391/391 [==============================] - 78s 198ms/step - loss: 1.1321 - accuracy: 0.0999 - val_loss: 1.0340 - val_accuracy: 0.1152\n",
            "Epoch 6/50\n",
            "391/391 [==============================] - ETA: 0s - loss: 1.0929 - accuracy: 0.1008"
          ]
        },
        {
          "metadata": {
            "tags": null
          },
          "name": "stderr",
          "output_type": "stream",
          "text": [
            "/usr/local/lib/python3.11/dist-packages/keras/src/engine/training.py:3103: UserWarning: You are saving your model as an HDF5 file via `model.save()`. This file format is considered legacy. We recommend using instead the native Keras format, e.g. `model.save('my_model.keras')`.\n",
            "  saving_api.save_model(\n",
            "\u001b[34m\u001b[1mwandb\u001b[0m: Adding directory to artifact (/content/wandb/run-20250220_055838-2i1gn7k4/files/model-best)... Done. 0.0s\n"
          ]
        },
        {
          "metadata": {
            "tags": null
          },
          "name": "stdout",
          "output_type": "stream",
          "text": [
            "391/391 [==============================] - 77s 198ms/step - loss: 1.0929 - accuracy: 0.1008 - val_loss: 0.9660 - val_accuracy: 0.1171\n",
            "Epoch 7/50\n",
            "391/391 [==============================] - 78s 198ms/step - loss: 1.0706 - accuracy: 0.1009 - val_loss: 1.0001 - val_accuracy: 0.0968\n",
            "Epoch 8/50\n",
            "391/391 [==============================] - ETA: 0s - loss: 1.0409 - accuracy: 0.1002"
          ]
        },
        {
          "metadata": {
            "tags": null
          },
          "name": "stderr",
          "output_type": "stream",
          "text": [
            "/usr/local/lib/python3.11/dist-packages/keras/src/engine/training.py:3103: UserWarning: You are saving your model as an HDF5 file via `model.save()`. This file format is considered legacy. We recommend using instead the native Keras format, e.g. `model.save('my_model.keras')`.\n",
            "  saving_api.save_model(\n",
            "\u001b[34m\u001b[1mwandb\u001b[0m: Adding directory to artifact (/content/wandb/run-20250220_055838-2i1gn7k4/files/model-best)... Done. 0.0s\n"
          ]
        },
        {
          "metadata": {
            "tags": null
          },
          "name": "stdout",
          "output_type": "stream",
          "text": [
            "391/391 [==============================] - 78s 199ms/step - loss: 1.0409 - accuracy: 0.1002 - val_loss: 0.9395 - val_accuracy: 0.1017\n",
            "Epoch 9/50\n",
            "391/391 [==============================] - 77s 196ms/step - loss: 1.0179 - accuracy: 0.1003 - val_loss: 0.9455 - val_accuracy: 0.1059\n",
            "Epoch 10/50\n",
            "391/391 [==============================] - ETA: 0s - loss: 0.9909 - accuracy: 0.1002"
          ]
        },
        {
          "metadata": {
            "tags": null
          },
          "name": "stderr",
          "output_type": "stream",
          "text": [
            "/usr/local/lib/python3.11/dist-packages/keras/src/engine/training.py:3103: UserWarning: You are saving your model as an HDF5 file via `model.save()`. This file format is considered legacy. We recommend using instead the native Keras format, e.g. `model.save('my_model.keras')`.\n",
            "  saving_api.save_model(\n",
            "\u001b[34m\u001b[1mwandb\u001b[0m: Adding directory to artifact (/content/wandb/run-20250220_055838-2i1gn7k4/files/model-best)... Done. 0.0s\n"
          ]
        },
        {
          "metadata": {
            "tags": null
          },
          "name": "stdout",
          "output_type": "stream",
          "text": [
            "391/391 [==============================] - 77s 197ms/step - loss: 0.9909 - accuracy: 0.1002 - val_loss: 0.9288 - val_accuracy: 0.1055\n",
            "Epoch 11/50\n",
            "391/391 [==============================] - 77s 196ms/step - loss: 0.9726 - accuracy: 0.1009 - val_loss: 0.9425 - val_accuracy: 0.1026\n",
            "Epoch 12/50\n",
            "391/391 [==============================] - ETA: 0s - loss: 0.9595 - accuracy: 0.0998"
          ]
        },
        {
          "metadata": {
            "tags": null
          },
          "name": "stderr",
          "output_type": "stream",
          "text": [
            "/usr/local/lib/python3.11/dist-packages/keras/src/engine/training.py:3103: UserWarning: You are saving your model as an HDF5 file via `model.save()`. This file format is considered legacy. We recommend using instead the native Keras format, e.g. `model.save('my_model.keras')`.\n",
            "  saving_api.save_model(\n",
            "\u001b[34m\u001b[1mwandb\u001b[0m: Adding directory to artifact (/content/wandb/run-20250220_055838-2i1gn7k4/files/model-best)... Done. 0.0s\n"
          ]
        },
        {
          "output_type": "stream",
          "name": "stdout",
          "text": [
            "391/391 [==============================] - 77s 197ms/step - loss: 0.9595 - accuracy: 0.0998 - val_loss: 0.8630 - val_accuracy: 0.0928\n",
            "Epoch 13/50\n",
            "391/391 [==============================] - 76s 195ms/step - loss: 0.9476 - accuracy: 0.0993 - val_loss: 0.9090 - val_accuracy: 0.1087\n",
            "Epoch 14/50\n",
            "391/391 [==============================] - 76s 193ms/step - loss: 0.9310 - accuracy: 0.1002 - val_loss: 0.8861 - val_accuracy: 0.1061\n",
            "Epoch 15/50\n",
            "391/391 [==============================] - 77s 196ms/step - loss: 0.9175 - accuracy: 0.0994 - val_loss: 0.8763 - val_accuracy: 0.1238\n",
            "Epoch 16/50\n",
            "391/391 [==============================] - ETA: 0s - loss: 0.9061 - accuracy: 0.1012"
          ]
        },
        {
          "output_type": "stream",
          "name": "stderr",
          "text": [
            "/usr/local/lib/python3.11/dist-packages/keras/src/engine/training.py:3103: UserWarning: You are saving your model as an HDF5 file via `model.save()`. This file format is considered legacy. We recommend using instead the native Keras format, e.g. `model.save('my_model.keras')`.\n",
            "  saving_api.save_model(\n",
            "\u001b[34m\u001b[1mwandb\u001b[0m: Adding directory to artifact (/content/wandb/run-20250220_055838-2i1gn7k4/files/model-best)... Done. 0.0s\n"
          ]
        },
        {
          "output_type": "stream",
          "name": "stdout",
          "text": [
            "\b\b\b\b\b\b\b\b\b\b\b\b\b\b\b\b\b\b\b\b\b\b\b\b\b\b\b\b\b\b\b\b\b\b\b\b\b\b\b\b\b\b\b\b\b\b\b\b\b\b\b\b\b\b\b\b\b\b\b\b\b\b\b\b\b\b\b\b\b\b\b\b\b\b\b\b\b\b\b\b\b\b\b\b\r391/391 [==============================] - 76s 195ms/step - loss: 0.9061 - accuracy: 0.1012 - val_loss: 0.8428 - val_accuracy: 0.1170\n",
            "Epoch 17/50\n",
            "391/391 [==============================] - 76s 195ms/step - loss: 0.8933 - accuracy: 0.1003 - val_loss: 0.8570 - val_accuracy: 0.0948\n",
            "Epoch 18/50\n",
            "391/391 [==============================] - ETA: 0s - loss: 0.8915 - accuracy: 0.1003"
          ]
        },
        {
          "output_type": "stream",
          "name": "stderr",
          "text": [
            "/usr/local/lib/python3.11/dist-packages/keras/src/engine/training.py:3103: UserWarning: You are saving your model as an HDF5 file via `model.save()`. This file format is considered legacy. We recommend using instead the native Keras format, e.g. `model.save('my_model.keras')`.\n",
            "  saving_api.save_model(\n",
            "\u001b[34m\u001b[1mwandb\u001b[0m: Adding directory to artifact (/content/wandb/run-20250220_055838-2i1gn7k4/files/model-best)... Done. 0.0s\n"
          ]
        },
        {
          "output_type": "stream",
          "name": "stdout",
          "text": [
            "\b\b\b\b\b\b\b\b\b\b\b\b\b\b\b\b\b\b\b\b\b\b\b\b\b\b\b\b\b\b\b\b\b\b\b\b\b\b\b\b\b\b\b\b\b\b\b\b\b\b\b\b\b\b\b\b\b\b\b\b\b\b\b\b\b\b\b\b\b\b\b\b\b\b\b\b\b\b\b\b\b\b\b\b\r391/391 [==============================] - 76s 195ms/step - loss: 0.8915 - accuracy: 0.1003 - val_loss: 0.8077 - val_accuracy: 0.1146\n",
            "Epoch 19/50\n",
            "391/391 [==============================] - 75s 193ms/step - loss: 0.8737 - accuracy: 0.0996 - val_loss: 0.8139 - val_accuracy: 0.1013\n",
            "Epoch 20/50\n",
            "391/391 [==============================] - 74s 189ms/step - loss: 0.8664 - accuracy: 0.0999 - val_loss: 0.8314 - val_accuracy: 0.0965\n",
            "Epoch 21/50\n",
            "391/391 [==============================] - 75s 192ms/step - loss: 0.8598 - accuracy: 0.1000 - val_loss: 0.8412 - val_accuracy: 0.0935\n",
            "Epoch 22/50\n",
            "391/391 [==============================] - ETA: 0s - loss: 0.8523 - accuracy: 0.1001"
          ]
        },
        {
          "output_type": "stream",
          "name": "stderr",
          "text": [
            "/usr/local/lib/python3.11/dist-packages/keras/src/engine/training.py:3103: UserWarning: You are saving your model as an HDF5 file via `model.save()`. This file format is considered legacy. We recommend using instead the native Keras format, e.g. `model.save('my_model.keras')`.\n",
            "  saving_api.save_model(\n",
            "\u001b[34m\u001b[1mwandb\u001b[0m: Adding directory to artifact (/content/wandb/run-20250220_055838-2i1gn7k4/files/model-best)... Done. 0.0s\n"
          ]
        },
        {
          "output_type": "stream",
          "name": "stdout",
          "text": [
            "\b\b\b\b\b\b\b\b\b\b\b\b\b\b\b\b\b\b\b\b\b\b\b\b\b\b\b\b\b\b\b\b\b\b\b\b\b\b\b\b\b\b\b\b\b\b\b\b\b\b\b\b\b\b\b\b\b\b\b\b\b\b\b\b\b\b\b\b\b\b\b\b\b\b\b\b\b\b\b\b\b\b\b\b\r391/391 [==============================] - 76s 194ms/step - loss: 0.8523 - accuracy: 0.1001 - val_loss: 0.7950 - val_accuracy: 0.1138\n",
            "Epoch 23/50\n",
            "391/391 [==============================] - ETA: 0s - loss: 0.8415 - accuracy: 0.0994"
          ]
        },
        {
          "output_type": "stream",
          "name": "stderr",
          "text": [
            "/usr/local/lib/python3.11/dist-packages/keras/src/engine/training.py:3103: UserWarning: You are saving your model as an HDF5 file via `model.save()`. This file format is considered legacy. We recommend using instead the native Keras format, e.g. `model.save('my_model.keras')`.\n",
            "  saving_api.save_model(\n",
            "\u001b[34m\u001b[1mwandb\u001b[0m: Adding directory to artifact (/content/wandb/run-20250220_055838-2i1gn7k4/files/model-best)... Done. 0.0s\n"
          ]
        },
        {
          "output_type": "stream",
          "name": "stdout",
          "text": [
            "\b\b\b\b\b\b\b\b\b\b\b\b\b\b\b\b\b\b\b\b\b\b\b\b\b\b\b\b\b\b\b\b\b\b\b\b\b\b\b\b\b\b\b\b\b\b\b\b\b\b\b\b\b\b\b\b\b\b\b\b\b\b\b\b\b\b\b\b\b\b\b\b\b\b\b\b\b\b\b\b\b\b\b\b\r391/391 [==============================] - 76s 195ms/step - loss: 0.8415 - accuracy: 0.0994 - val_loss: 0.7940 - val_accuracy: 0.0957\n",
            "Epoch 24/50\n",
            "391/391 [==============================] - 76s 193ms/step - loss: 0.8340 - accuracy: 0.0999 - val_loss: 0.8609 - val_accuracy: 0.1146\n",
            "Epoch 25/50\n",
            "391/391 [==============================] - 75s 192ms/step - loss: 0.8256 - accuracy: 0.1001 - val_loss: 0.8171 - val_accuracy: 0.1013\n",
            "Epoch 26/50\n",
            "391/391 [==============================] - 75s 192ms/step - loss: 0.8184 - accuracy: 0.0998 - val_loss: 0.8412 - val_accuracy: 0.0799\n",
            "Epoch 27/50\n",
            "391/391 [==============================] - ETA: 0s - loss: 0.8153 - accuracy: 0.0997"
          ]
        },
        {
          "output_type": "stream",
          "name": "stderr",
          "text": [
            "/usr/local/lib/python3.11/dist-packages/keras/src/engine/training.py:3103: UserWarning: You are saving your model as an HDF5 file via `model.save()`. This file format is considered legacy. We recommend using instead the native Keras format, e.g. `model.save('my_model.keras')`.\n",
            "  saving_api.save_model(\n",
            "\u001b[34m\u001b[1mwandb\u001b[0m: Adding directory to artifact (/content/wandb/run-20250220_055838-2i1gn7k4/files/model-best)... Done. 0.0s\n"
          ]
        },
        {
          "output_type": "stream",
          "name": "stdout",
          "text": [
            "\b\b\b\b\b\b\b\b\b\b\b\b\b\b\b\b\b\b\b\b\b\b\b\b\b\b\b\b\b\b\b\b\b\b\b\b\b\b\b\b\b\b\b\b\b\b\b\b\b\b\b\b\b\b\b\b\b\b\b\b\b\b\b\b\b\b\b\b\b\b\b\b\b\b\b\b\b\b\b\b\b\b\b\b\r391/391 [==============================] - 76s 193ms/step - loss: 0.8153 - accuracy: 0.0997 - val_loss: 0.7583 - val_accuracy: 0.1091\n",
            "Epoch 28/50\n",
            "391/391 [==============================] - 76s 193ms/step - loss: 0.8054 - accuracy: 0.1003 - val_loss: 0.8362 - val_accuracy: 0.1118\n",
            "Epoch 29/50\n",
            "391/391 [==============================] - 75s 191ms/step - loss: 0.8014 - accuracy: 0.1014 - val_loss: 0.7679 - val_accuracy: 0.1221\n",
            "Epoch 30/50\n",
            "391/391 [==============================] - 76s 193ms/step - loss: 0.8011 - accuracy: 0.1003 - val_loss: 0.7876 - val_accuracy: 0.1102\n",
            "Epoch 31/50\n",
            "391/391 [==============================] - 76s 193ms/step - loss: 0.7873 - accuracy: 0.1004 - val_loss: 0.7639 - val_accuracy: 0.1051\n",
            "Epoch 32/50\n",
            "391/391 [==============================] - 74s 190ms/step - loss: 0.7873 - accuracy: 0.1010 - val_loss: 0.7826 - val_accuracy: 0.1223\n",
            "Epoch 33/50\n",
            "391/391 [==============================] - ETA: 0s - loss: 0.7793 - accuracy: 0.0997"
          ]
        },
        {
          "output_type": "stream",
          "name": "stderr",
          "text": [
            "/usr/local/lib/python3.11/dist-packages/keras/src/engine/training.py:3103: UserWarning: You are saving your model as an HDF5 file via `model.save()`. This file format is considered legacy. We recommend using instead the native Keras format, e.g. `model.save('my_model.keras')`.\n",
            "  saving_api.save_model(\n",
            "\u001b[34m\u001b[1mwandb\u001b[0m: Adding directory to artifact (/content/wandb/run-20250220_055838-2i1gn7k4/files/model-best)... Done. 0.0s\n"
          ]
        },
        {
          "output_type": "stream",
          "name": "stdout",
          "text": [
            "\b\b\b\b\b\b\b\b\b\b\b\b\b\b\b\b\b\b\b\b\b\b\b\b\b\b\b\b\b\b\b\b\b\b\b\b\b\b\b\b\b\b\b\b\b\b\b\b\b\b\b\b\b\b\b\b\b\b\b\b\b\b\b\b\b\b\b\b\b\b\b\b\b\b\b\b\b\b\b\b\b\b\b\b\r391/391 [==============================] - 76s 195ms/step - loss: 0.7793 - accuracy: 0.0997 - val_loss: 0.7531 - val_accuracy: 0.1036\n",
            "Epoch 34/50\n",
            "391/391 [==============================] - 75s 192ms/step - loss: 0.7737 - accuracy: 0.1008 - val_loss: 0.7539 - val_accuracy: 0.1222\n",
            "Epoch 35/50\n",
            "391/391 [==============================] - 76s 194ms/step - loss: 0.7728 - accuracy: 0.1004 - val_loss: 0.7742 - val_accuracy: 0.1049\n",
            "Epoch 36/50\n",
            "391/391 [==============================] - ETA: 0s - loss: 0.7687 - accuracy: 0.1002"
          ]
        },
        {
          "output_type": "stream",
          "name": "stderr",
          "text": [
            "/usr/local/lib/python3.11/dist-packages/keras/src/engine/training.py:3103: UserWarning: You are saving your model as an HDF5 file via `model.save()`. This file format is considered legacy. We recommend using instead the native Keras format, e.g. `model.save('my_model.keras')`.\n",
            "  saving_api.save_model(\n",
            "\u001b[34m\u001b[1mwandb\u001b[0m: Adding directory to artifact (/content/wandb/run-20250220_055838-2i1gn7k4/files/model-best)... Done. 0.0s\n"
          ]
        },
        {
          "output_type": "stream",
          "name": "stdout",
          "text": [
            "\b\b\b\b\b\b\b\b\b\b\b\b\b\b\b\b\b\b\b\b\b\b\b\b\b\b\b\b\b\b\b\b\b\b\b\b\b\b\b\b\b\b\b\b\b\b\b\b\b\b\b\b\b\b\b\b\b\b\b\b\b\b\b\b\b\b\b\b\b\b\b\b\b\b\b\b\b\b\b\b\b\b\b\b\r391/391 [==============================] - 75s 192ms/step - loss: 0.7687 - accuracy: 0.1002 - val_loss: 0.7511 - val_accuracy: 0.0959\n",
            "Epoch 37/50\n",
            "391/391 [==============================] - 75s 192ms/step - loss: 0.7642 - accuracy: 0.1006 - val_loss: 0.7952 - val_accuracy: 0.1098\n",
            "Epoch 38/50\n",
            "391/391 [==============================] - 75s 191ms/step - loss: 0.7541 - accuracy: 0.1002 - val_loss: 0.7561 - val_accuracy: 0.0921\n",
            "Epoch 39/50\n",
            "391/391 [==============================] - 76s 194ms/step - loss: 0.7518 - accuracy: 0.0994 - val_loss: 0.7859 - val_accuracy: 0.1052\n",
            "Epoch 40/50\n",
            "391/391 [==============================] - ETA: 0s - loss: 0.7484 - accuracy: 0.1003"
          ]
        },
        {
          "output_type": "stream",
          "name": "stderr",
          "text": [
            "/usr/local/lib/python3.11/dist-packages/keras/src/engine/training.py:3103: UserWarning: You are saving your model as an HDF5 file via `model.save()`. This file format is considered legacy. We recommend using instead the native Keras format, e.g. `model.save('my_model.keras')`.\n",
            "  saving_api.save_model(\n",
            "\u001b[34m\u001b[1mwandb\u001b[0m: Adding directory to artifact (/content/wandb/run-20250220_055838-2i1gn7k4/files/model-best)... Done. 0.0s\n"
          ]
        },
        {
          "output_type": "stream",
          "name": "stdout",
          "text": [
            "\b\b\b\b\b\b\b\b\b\b\b\b\b\b\b\b\b\b\b\b\b\b\b\b\b\b\b\b\b\b\b\b\b\b\b\b\b\b\b\b\b\b\b\b\b\b\b\b\b\b\b\b\b\b\b\b\b\b\b\b\b\b\b\b\b\b\b\b\b\b\b\b\b\b\b\b\b\b\b\b\b\b\b\b\r391/391 [==============================] - 76s 195ms/step - loss: 0.7484 - accuracy: 0.1003 - val_loss: 0.7398 - val_accuracy: 0.1086\n",
            "Epoch 41/50\n",
            "391/391 [==============================] - 76s 195ms/step - loss: 0.7445 - accuracy: 0.1002 - val_loss: 0.7858 - val_accuracy: 0.1175\n",
            "Epoch 42/50\n",
            "391/391 [==============================] - 76s 194ms/step - loss: 0.7449 - accuracy: 0.1005 - val_loss: 0.7433 - val_accuracy: 0.1097\n",
            "Epoch 43/50\n",
            "391/391 [==============================] - 74s 190ms/step - loss: 0.7428 - accuracy: 0.0997 - val_loss: 0.7615 - val_accuracy: 0.1192\n",
            "Epoch 44/50\n",
            "391/391 [==============================] - ETA: 0s - loss: 0.7332 - accuracy: 0.1003"
          ]
        },
        {
          "output_type": "stream",
          "name": "stderr",
          "text": [
            "/usr/local/lib/python3.11/dist-packages/keras/src/engine/training.py:3103: UserWarning: You are saving your model as an HDF5 file via `model.save()`. This file format is considered legacy. We recommend using instead the native Keras format, e.g. `model.save('my_model.keras')`.\n",
            "  saving_api.save_model(\n",
            "\u001b[34m\u001b[1mwandb\u001b[0m: Adding directory to artifact (/content/wandb/run-20250220_055838-2i1gn7k4/files/model-best)... Done. 0.0s\n"
          ]
        },
        {
          "output_type": "stream",
          "name": "stdout",
          "text": [
            "\b\b\b\b\b\b\b\b\b\b\b\b\b\b\b\b\b\b\b\b\b\b\b\b\b\b\b\b\b\b\b\b\b\b\b\b\b\b\b\b\b\b\b\b\b\b\b\b\b\b\b\b\b\b\b\b\b\b\b\b\b\b\b\b\b\b\b\b\b\b\b\b\b\b\b\b\b\b\b\b\b\b\b\b\r391/391 [==============================] - 76s 193ms/step - loss: 0.7332 - accuracy: 0.1003 - val_loss: 0.7228 - val_accuracy: 0.0923\n",
            "Epoch 45/50\n",
            "391/391 [==============================] - ETA: 0s - loss: 0.7318 - accuracy: 0.1002"
          ]
        },
        {
          "output_type": "stream",
          "name": "stderr",
          "text": [
            "/usr/local/lib/python3.11/dist-packages/keras/src/engine/training.py:3103: UserWarning: You are saving your model as an HDF5 file via `model.save()`. This file format is considered legacy. We recommend using instead the native Keras format, e.g. `model.save('my_model.keras')`.\n",
            "  saving_api.save_model(\n",
            "\u001b[34m\u001b[1mwandb\u001b[0m: Adding directory to artifact (/content/wandb/run-20250220_055838-2i1gn7k4/files/model-best)... Done. 0.0s\n"
          ]
        },
        {
          "output_type": "stream",
          "name": "stdout",
          "text": [
            "\b\b\b\b\b\b\b\b\b\b\b\b\b\b\b\b\b\b\b\b\b\b\b\b\b\b\b\b\b\b\b\b\b\b\b\b\b\b\b\b\b\b\b\b\b\b\b\b\b\b\b\b\b\b\b\b\b\b\b\b\b\b\b\b\b\b\b\b\b\b\b\b\b\b\b\b\b\b\b\b\b\b\b\b\r391/391 [==============================] - 76s 193ms/step - loss: 0.7318 - accuracy: 0.1002 - val_loss: 0.7114 - val_accuracy: 0.1048\n",
            "Epoch 46/50\n",
            "391/391 [==============================] - 75s 192ms/step - loss: 0.7268 - accuracy: 0.0998 - val_loss: 0.7154 - val_accuracy: 0.1039\n",
            "Epoch 47/50\n",
            "391/391 [==============================] - 75s 191ms/step - loss: 0.7238 - accuracy: 0.1007 - val_loss: 0.7186 - val_accuracy: 0.1015\n",
            "Epoch 48/50\n",
            "391/391 [==============================] - 73s 188ms/step - loss: 0.7252 - accuracy: 0.1001 - val_loss: 0.7311 - val_accuracy: 0.1164\n",
            "Epoch 49/50\n",
            "391/391 [==============================] - ETA: 0s - loss: 0.7194 - accuracy: 0.1001"
          ]
        },
        {
          "output_type": "stream",
          "name": "stderr",
          "text": [
            "/usr/local/lib/python3.11/dist-packages/keras/src/engine/training.py:3103: UserWarning: You are saving your model as an HDF5 file via `model.save()`. This file format is considered legacy. We recommend using instead the native Keras format, e.g. `model.save('my_model.keras')`.\n",
            "  saving_api.save_model(\n",
            "\u001b[34m\u001b[1mwandb\u001b[0m: Adding directory to artifact (/content/wandb/run-20250220_055838-2i1gn7k4/files/model-best)... Done. 0.0s\n"
          ]
        },
        {
          "output_type": "stream",
          "name": "stdout",
          "text": [
            "\b\b\b\b\b\b\b\b\b\b\b\b\b\b\b\b\b\b\b\b\b\b\b\b\b\b\b\b\b\b\b\b\b\b\b\b\b\b\b\b\b\b\b\b\b\b\b\b\b\b\b\b\b\b\b\b\b\b\b\b\b\b\b\b\b\b\b\b\b\b\b\b\b\b\b\b\b\b\b\b\b\b\b\b\r391/391 [==============================] - 75s 193ms/step - loss: 0.7194 - accuracy: 0.1001 - val_loss: 0.6925 - val_accuracy: 0.1148\n",
            "Epoch 50/50\n",
            "391/391 [==============================] - 74s 188ms/step - loss: 0.7116 - accuracy: 0.1010 - val_loss: 0.7336 - val_accuracy: 0.1200\n",
            "313/313 [==============================] - 4s 14ms/step - loss: 0.7336 - accuracy: 0.1200\n",
            "313/313 [==============================] - 3s 10ms/step\n"
          ]
        },
        {
          "output_type": "display_data",
          "data": {
            "text/plain": [
              "<Figure size 640x480 with 1 Axes>"
            ],
            "image/png": "[encoded data removed]"
          },
          "metadata": {}
        }
      ]
    }
  ]
}