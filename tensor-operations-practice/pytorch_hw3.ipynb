{
  "nbformat": 4,
  "nbformat_minor": 0,
  "metadata": {
    "colab": {
      "provenance": []
    },
    "kernelspec": {
      "name": "python3",
      "display_name": "Python 3"
    },
    "language_info": {
      "name": "python"
    }
  },
  "cells": [
    {
      "cell_type": "code",
      "execution_count": null,
      "metadata": {
        "id": "uZtVDOzCadF6"
      },
      "outputs": [],
      "source": [
        "# PyTorch Tensor Operations Colab Notebook\n",
        "import torch"
      ]
    },
    {
      "cell_type": "code",
      "source": [
        "# Basic Tensor Creation\n",
        "scalar = torch.tensor(5)  # Scalar (Rank-0 Tensor)\n",
        "vector = torch.tensor([1, 2, 3])  # Vector (Rank-1 Tensor)\n",
        "matrix = torch.tensor([[1, 2], [3, 4]])  # Matrix (Rank-2 Tensor)\n",
        "tensor_3d = torch.rand((3, 3, 3))  # Rank-3 Tensor with random values\n",
        "\n",
        "print(\"Scalar:\", scalar)\n",
        "print(\"Vector:\", vector)\n",
        "print(\"Matrix:\\n\", matrix)\n",
        "print(\"3D Tensor:\\n\", tensor_3d)"
      ],
      "metadata": {
        "colab": {
          "base_uri": "https://localhost:8080/"
        },
        "id": "pWOETnCDAKxJ",
        "outputId": "d886b995-f695-42f9-f311-af4798135184"
      },
      "execution_count": null,
      "outputs": [
        {
          "output_type": "stream",
          "name": "stdout",
          "text": [
            "Scalar: tensor(5)\n",
            "Vector: tensor([1, 2, 3])\n",
            "Matrix:\n",
            " tensor([[1, 2],\n",
            "        [3, 4]])\n",
            "3D Tensor:\n",
            " tensor([[[0.3339, 0.6557, 0.1369],\n",
            "         [0.5948, 0.4374, 0.9835],\n",
            "         [0.1709, 0.4897, 0.9679]],\n",
            "\n",
            "        [[0.3059, 0.7301, 0.5698],\n",
            "         [0.0817, 0.7697, 0.8632],\n",
            "         [0.2584, 0.3274, 0.7625]],\n",
            "\n",
            "        [[0.8846, 0.5441, 0.3923],\n",
            "         [0.8557, 0.2905, 0.8216],\n",
            "         [0.0644, 0.2630, 0.4659]]])\n"
          ]
        }
      ]
    },
    {
      "cell_type": "code",
      "source": [
        "# Basic Arithmetic Operations\n",
        "a = torch.tensor([[1.0, 2.0], [3.0, 4.0]])\n",
        "b = torch.tensor([[5.0, 6.0], [7.0, 8.0]])\n",
        "add_result = a + b\n",
        "mul_result = a * b\n",
        "matmul_result = torch.matmul(a, b)\n",
        "\n",
        "print(\"\\nAddition:\\n\", add_result)\n",
        "print(\"Element-wise Multiplication:\\n\", mul_result)\n",
        "print(\"Matrix Multiplication:\\n\", matmul_result)"
      ],
      "metadata": {
        "colab": {
          "base_uri": "https://localhost:8080/"
        },
        "id": "VAnRWbniAMdi",
        "outputId": "d7e910a9-f6a9-44e6-b9f6-06b0e0a5938b"
      },
      "execution_count": null,
      "outputs": [
        {
          "output_type": "stream",
          "name": "stdout",
          "text": [
            "\n",
            "Addition:\n",
            " tensor([[ 6.,  8.],\n",
            "        [10., 12.]])\n",
            "Element-wise Multiplication:\n",
            " tensor([[ 5., 12.],\n",
            "        [21., 32.]])\n",
            "Matrix Multiplication:\n",
            " tensor([[19., 22.],\n",
            "        [43., 50.]])\n"
          ]
        }
      ]
    },
    {
      "cell_type": "code",
      "source": [
        "# Advanced Operations\n",
        "reshaped_tensor = a.view(-1)  # Reshaping\n",
        "transposed_tensor = a.T       # Transposition\n",
        "reduced_sum = a.sum()         # Summing all elements\n",
        "broadcasted_tensor = a + torch.tensor([1.0, 2.0])  # Broadcasting\n",
        "\n",
        "print(\"\\nReshaped Tensor:\", reshaped_tensor)\n",
        "# Advanced Operations\n",
        "reshaped_tensor = a.view(-1)  # Reshaping\n",
        "transposed_tensor = a.T       # Transposition\n",
        "reduced_sum = a.sum()         # Summing all elements\n",
        "broadcasted_tensor = a + torch.tensor([1.0, 2.0])  # Broadcasting\n",
        "\n",
        "print(\"\\nReshaped Tensor:\", reshaped_tensor)\n",
        "print(\"Transposed Tensor:\\n\", transposed_tensor)\n",
        "print(\"Reduced Sum:\", reduced_sum.item())\n",
        "print(\"Broadcasted Tensor:\\n\", broadcasted_tensor)"
      ],
      "metadata": {
        "colab": {
          "base_uri": "https://localhost:8080/"
        },
        "id": "N7kCbv0MANXF",
        "outputId": "e13d33c7-a424-43c8-bc6b-45e07e9dcf9d"
      },
      "execution_count": null,
      "outputs": [
        {
          "output_type": "stream",
          "name": "stdout",
          "text": [
            "\n",
            "Reshaped Tensor: tensor([1., 2., 3., 4.])\n",
            "\n",
            "Reshaped Tensor: tensor([1., 2., 3., 4.])\n",
            "Transposed Tensor:\n",
            " tensor([[1., 3.],\n",
            "        [2., 4.]])\n",
            "Reduced Sum: 10.0\n",
            "Broadcasted Tensor:\n",
            " tensor([[2., 4.],\n",
            "        [4., 6.]])\n"
          ]
        }
      ]
    },
    {
      "cell_type": "code",
      "source": [
        "# Einsum Demonstrations in PyTorch\n",
        "einsum_matmul = torch.einsum('ij,jk->ik', a, b)    # Matrix Multiplication using einsum\n",
        "einsum_outer = torch.einsum('i,j->ij', vector.float(), vector.float())   # Outer Product using einsum\n",
        "einsum_trace = torch.einsum('ii->', matrix.float())   # Trace of a Matrix using einsum\n",
        "\n",
        "print(\"\\nEinsum Matrix Multiplication:\\n\", einsum_matmul)\n",
        "print(\"Einsum Outer Product:\\n\", einsum_outer)\n",
        "print(\"Einsum Trace:\", einsum_trace.item())"
      ],
      "metadata": {
        "colab": {
          "base_uri": "https://localhost:8080/"
        },
        "id": "MAVds4UHAOgB",
        "outputId": "b6264e5c-fcdf-4b0c-975a-4f4759d00ec9"
      },
      "execution_count": null,
      "outputs": [
        {
          "output_type": "stream",
          "name": "stdout",
          "text": [
            "\n",
            "Einsum Matrix Multiplication:\n",
            " tensor([[19., 22.],\n",
            "        [43., 50.]])\n",
            "Einsum Outer Product:\n",
            " tensor([[1., 2., 3.],\n",
            "        [2., 4., 6.],\n",
            "        [3., 6., 9.]])\n",
            "Einsum Trace: 5.0\n"
          ]
        }
      ]
    },
    {
      "cell_type": "code",
      "source": [
        "# Special Tensors in PyTorch\n",
        "zeros_tensor = torch.zeros((2, 3))\n",
        "ones_tensor = torch.ones((2, 3))\n",
        "identity_matrix = torch.eye(3)\n",
        "\n",
        "print(\"\\nZeros Tensor:\\n\", zeros_tensor)\n",
        "print(\"Ones Tensor:\\n\", ones_tensor)\n",
        "print(\"Identity Matrix:\\n\", identity_matrix)"
      ],
      "metadata": {
        "colab": {
          "base_uri": "https://localhost:8080/"
        },
        "id": "BLH5uMKRAPSI",
        "outputId": "58b1604a-f811-4c0e-801e-ff43cd6d7e72"
      },
      "execution_count": null,
      "outputs": [
        {
          "output_type": "stream",
          "name": "stdout",
          "text": [
            "\n",
            "Zeros Tensor:\n",
            " tensor([[0., 0., 0.],\n",
            "        [0., 0., 0.]])\n",
            "Ones Tensor:\n",
            " tensor([[1., 1., 1.],\n",
            "        [1., 1., 1.]])\n",
            "Identity Matrix:\n",
            " tensor([[1., 0., 0.],\n",
            "        [0., 1., 0.],\n",
            "        [0., 0., 1.]])\n"
          ]
        }
      ]
    },
    {
      "cell_type": "code",
      "source": [
        "# Less Commonly Used Operations in PyTorch\n",
        "expanded_tensor = vector.expand(4, -1)   # Expanding dimensions without copying data\n",
        "permuted_tensor = tensor_3d.permute(2, 1, 0)   # Permuting dimensions of a tensor\n",
        "\n",
        "print(\"\\nExpanded Tensor:\\n\", expanded_tensor)\n",
        "print(\"Permuted Tensor Shape:\", permuted_tensor.shape)"
      ],
      "metadata": {
        "colab": {
          "base_uri": "https://localhost:8080/"
        },
        "id": "oxskq0cvAP7k",
        "outputId": "34a24e63-836e-49c4-b993-1dc01f63f67b"
      },
      "execution_count": null,
      "outputs": [
        {
          "output_type": "stream",
          "name": "stdout",
          "text": [
            "\n",
            "Expanded Tensor:\n",
            " tensor([[1, 2, 3],\n",
            "        [1, 2, 3],\n",
            "        [1, 2, 3],\n",
            "        [1, 2, 3]])\n",
            "Permuted Tensor Shape: torch.Size([3, 3, 3])\n"
          ]
        }
      ]
    }
  ]
}