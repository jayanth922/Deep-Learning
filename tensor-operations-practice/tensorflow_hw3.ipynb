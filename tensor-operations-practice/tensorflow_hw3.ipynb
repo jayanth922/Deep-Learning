{
  "nbformat": 4,
  "nbformat_minor": 0,
  "metadata": {
    "colab": {
      "provenance": []
    },
    "kernelspec": {
      "name": "python3",
      "display_name": "Python 3"
    },
    "language_info": {
      "name": "python"
    }
  },
  "cells": [
    {
      "cell_type": "code",
      "execution_count": null,
      "metadata": {
        "id": "MSRT6NbIaJan"
      },
      "outputs": [],
      "source": [
        "# TensorFlow 2.0 Tensor Operations Colab Notebook\n",
        "import tensorflow as tf\n",
        "import numpy as np"
      ]
    },
    {
      "cell_type": "code",
      "source": [
        "# Basic Tensor Creation\n",
        "scalar = tf.constant(5)  # Scalar (Rank-0 Tensor)\n",
        "vector = tf.constant([1, 2, 3])  # Vector (Rank-1 Tensor)\n",
        "matrix = tf.constant([[1, 2], [3, 4]])  # Matrix (Rank-2 Tensor)\n",
        "tensor_3d = tf.random.uniform((3, 3, 3))  # Rank-3 Tensor with random values\n",
        "\n",
        "print(\"Scalar:\", scalar)\n",
        "print(\"Vector:\", vector)\n",
        "print(\"Matrix:\\n\", matrix)\n",
        "print(\"3D Tensor:\\n\", tensor_3d)"
      ],
      "metadata": {
        "colab": {
          "base_uri": "https://localhost:8080/"
        },
        "id": "cNb_IaNB_OsC",
        "outputId": "7e37848f-7dfd-4455-9723-7d326459c6b4"
      },
      "execution_count": null,
      "outputs": [
        {
          "output_type": "stream",
          "name": "stdout",
          "text": [
            "Scalar: tf.Tensor(5, shape=(), dtype=int32)\n",
            "Vector: tf.Tensor([1 2 3], shape=(3,), dtype=int32)\n",
            "Matrix:\n",
            " tf.Tensor(\n",
            "[[1 2]\n",
            " [3 4]], shape=(2, 2), dtype=int32)\n",
            "3D Tensor:\n",
            " tf.Tensor(\n",
            "[[[0.6104157  0.11798787 0.7405679 ]\n",
            "  [0.92130387 0.43568456 0.42289114]\n",
            "  [0.36583805 0.6479802  0.7970102 ]]\n",
            "\n",
            " [[0.42761183 0.8731713  0.19582093]\n",
            "  [0.94245195 0.13331056 0.48578215]\n",
            "  [0.39179862 0.6129129  0.51321876]]\n",
            "\n",
            " [[0.13179123 0.7748139  0.1283232 ]\n",
            "  [0.20895112 0.72030795 0.5131079 ]\n",
            "  [0.70523787 0.5871533  0.6723876 ]]], shape=(3, 3, 3), dtype=float32)\n"
          ]
        }
      ]
    },
    {
      "cell_type": "code",
      "source": [
        "# Basic Arithmetic Operations\n",
        "a = tf.constant([[1, 2], [3, 4]])\n",
        "b = tf.constant([[5, 6], [7, 8]])\n",
        "add_result = tf.add(a, b)\n",
        "mul_result = tf.multiply(a, b)\n",
        "matmul_result = tf.matmul(a, b)\n",
        "\n",
        "print(\"\\nAddition:\\n\", add_result)\n",
        "print(\"Element-wise Multiplication:\\n\", mul_result)\n",
        "print(\"Matrix Multiplication:\\n\", matmul_result)"
      ],
      "metadata": {
        "colab": {
          "base_uri": "https://localhost:8080/"
        },
        "id": "MwdRrZQ-_RoE",
        "outputId": "f1e82da1-3b29-4340-d215-6626ab0b25ec"
      },
      "execution_count": null,
      "outputs": [
        {
          "output_type": "stream",
          "name": "stdout",
          "text": [
            "\n",
            "Addition:\n",
            " tf.Tensor(\n",
            "[[ 6  8]\n",
            " [10 12]], shape=(2, 2), dtype=int32)\n",
            "Element-wise Multiplication:\n",
            " tf.Tensor(\n",
            "[[ 5 12]\n",
            " [21 32]], shape=(2, 2), dtype=int32)\n",
            "Matrix Multiplication:\n",
            " tf.Tensor(\n",
            "[[19 22]\n",
            " [43 50]], shape=(2, 2), dtype=int32)\n"
          ]
        }
      ]
    },
    {
      "cell_type": "code",
      "source": [
        "# Advanced Operations\n",
        "reshaped_tensor = tf.reshape(a, [4])  # Reshaping\n",
        "transposed_tensor = tf.transpose(a)  # Transposition\n",
        "reduced_sum = tf.reduce_sum(a)  # Summing all elements\n",
        "broadcasted_tensor = a + tf.constant([1, 2])  # Broadcasting\n",
        "\n",
        "print(\"\\nReshaped Tensor:\", reshaped_tensor)\n",
        "print(\"Transposed Tensor:\\n\", transposed_tensor)\n",
        "print(\"Reduced Sum:\", reduced_sum)\n",
        "print(\"Broadcasted Tensor:\\n\", broadcasted_tensor)"
      ],
      "metadata": {
        "colab": {
          "base_uri": "https://localhost:8080/"
        },
        "id": "x8-pUJP0_Szw",
        "outputId": "cd2bfabe-2eac-4ad7-8dfd-deae742537a1"
      },
      "execution_count": null,
      "outputs": [
        {
          "output_type": "stream",
          "name": "stdout",
          "text": [
            "\n",
            "Reshaped Tensor: tf.Tensor([1 2 3 4], shape=(4,), dtype=int32)\n",
            "Transposed Tensor:\n",
            " tf.Tensor(\n",
            "[[1 3]\n",
            " [2 4]], shape=(2, 2), dtype=int32)\n",
            "Reduced Sum: tf.Tensor(10, shape=(), dtype=int32)\n",
            "Broadcasted Tensor:\n",
            " tf.Tensor(\n",
            "[[2 4]\n",
            " [4 6]], shape=(2, 2), dtype=int32)\n"
          ]
        }
      ]
    },
    {
      "cell_type": "code",
      "source": [
        "# Einsum Demonstrations\n",
        "# Matrix Multiplication using einsum\n",
        "einsum_matmul = tf.einsum('ij,jk->ik', a, b)\n",
        "\n",
        "# Outer Product using einsum\n",
        "einsum_outer = tf.einsum('i,j->ij', vector, vector)\n",
        "\n",
        "# Trace of a Matrix using einsum\n",
        "einsum_trace = tf.einsum('ii', matrix)\n",
        "\n",
        "print(\"\\nEinsum Matrix Multiplication:\\n\", einsum_matmul)\n",
        "print(\"Einsum Outer Product:\\n\", einsum_outer)\n",
        "print(\"Einsum Trace:\", einsum_trace)"
      ],
      "metadata": {
        "colab": {
          "base_uri": "https://localhost:8080/"
        },
        "id": "4QNtB_HM_T-6",
        "outputId": "a8188a60-c624-438a-cde5-adce7c13a592"
      },
      "execution_count": null,
      "outputs": [
        {
          "output_type": "stream",
          "name": "stdout",
          "text": [
            "\n",
            "Einsum Matrix Multiplication:\n",
            " tf.Tensor(\n",
            "[[19 22]\n",
            " [43 50]], shape=(2, 2), dtype=int32)\n",
            "Einsum Outer Product:\n",
            " tf.Tensor(\n",
            "[[1 2 3]\n",
            " [2 4 6]\n",
            " [3 6 9]], shape=(3, 3), dtype=int32)\n",
            "Einsum Trace: tf.Tensor(5, shape=(), dtype=int32)\n"
          ]
        }
      ]
    },
    {
      "cell_type": "code",
      "source": [
        "# Special Tensors\n",
        "zeros_tensor = tf.zeros((2, 3))\n",
        "ones_tensor = tf.ones((2, 3))\n",
        "identity_matrix = tf.eye(3)\n",
        "\n",
        "print(\"\\nZeros Tensor:\\n\", zeros_tensor)\n",
        "print(\"Ones Tensor:\\n\", ones_tensor)\n",
        "print(\"Identity Matrix:\\n\", identity_matrix)"
      ],
      "metadata": {
        "colab": {
          "base_uri": "https://localhost:8080/"
        },
        "id": "qMV-EROP_VYf",
        "outputId": "45979944-f8c6-450a-883e-1748c92811b3"
      },
      "execution_count": null,
      "outputs": [
        {
          "output_type": "stream",
          "name": "stdout",
          "text": [
            "\n",
            "Zeros Tensor:\n",
            " tf.Tensor(\n",
            "[[0. 0. 0.]\n",
            " [0. 0. 0.]], shape=(2, 3), dtype=float32)\n",
            "Ones Tensor:\n",
            " tf.Tensor(\n",
            "[[1. 1. 1.]\n",
            " [1. 1. 1.]], shape=(2, 3), dtype=float32)\n",
            "Identity Matrix:\n",
            " tf.Tensor(\n",
            "[[1. 0. 0.]\n",
            " [0. 1. 0.]\n",
            " [0. 0. 1.]], shape=(3, 3), dtype=float32)\n"
          ]
        }
      ]
    }
  ]
}